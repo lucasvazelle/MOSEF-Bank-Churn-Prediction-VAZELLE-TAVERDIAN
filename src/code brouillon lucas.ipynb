{
 "cells": [
  {
   "cell_type": "markdown",
   "metadata": {},
   "source": [
    "\n",
    "<p align=\"center\">\n",
    "    <img src=\"mosef.png\" alt=\"MOSEF Logo\" width=\"300\">\n",
    "</p>\n",
    "```\n",
    "</p>\n",
    "\n",
    "<a href=\"https://linkedin.com/in/lucasvazelle\">Vazelle Lucas  </a> $\\cdot$ \n",
    "<a href=\"https://www.linkedin.com/in/mariam-tarverdian\">Taverdian Mariam </a> $\\cdot$ 2024-2025, MOSEF $\\cdot$ \n",
    "\n",
    "\n",
    "---\n",
    "\n",
    "\n",
    "- [Projet Kaggel ](https://www.kaggle.com/competitions/mosef-bank-churn-prediction/)\n"
   ]
  },
  {
   "cell_type": "code",
   "execution_count": 126,
   "metadata": {},
   "outputs": [],
   "source": [
    "import pandas as pd\n"
   ]
  },
  {
   "cell_type": "markdown",
   "metadata": {},
   "source": [
    "# 1. Import data <a class=\"anchor\" id=\"Introduction\"></a>\n",
    "---\n"
   ]
  },
  {
   "cell_type": "code",
   "execution_count": 127,
   "metadata": {},
   "outputs": [
    {
     "name": "stdout",
     "output_type": "stream",
     "text": [
      "Training Data:\n"
     ]
    },
    {
     "data": {
      "text/html": [
       "<div>\n",
       "<style scoped>\n",
       "    .dataframe tbody tr th:only-of-type {\n",
       "        vertical-align: middle;\n",
       "    }\n",
       "\n",
       "    .dataframe tbody tr th {\n",
       "        vertical-align: top;\n",
       "    }\n",
       "\n",
       "    .dataframe thead th {\n",
       "        text-align: right;\n",
       "    }\n",
       "</style>\n",
       "<table border=\"1\" class=\"dataframe\">\n",
       "  <thead>\n",
       "    <tr style=\"text-align: right;\">\n",
       "      <th></th>\n",
       "      <th>id</th>\n",
       "      <th>CustomerId</th>\n",
       "      <th>Surname</th>\n",
       "      <th>CreditScore</th>\n",
       "      <th>Geography</th>\n",
       "      <th>Gender</th>\n",
       "      <th>Age</th>\n",
       "      <th>Tenure</th>\n",
       "      <th>Balance</th>\n",
       "      <th>NumOfProducts</th>\n",
       "      <th>HasCrCard</th>\n",
       "      <th>IsActiveMember</th>\n",
       "      <th>EstimatedSalary</th>\n",
       "      <th>Exited</th>\n",
       "    </tr>\n",
       "  </thead>\n",
       "  <tbody>\n",
       "    <tr>\n",
       "      <th>0</th>\n",
       "      <td>0</td>\n",
       "      <td>15713774.0</td>\n",
       "      <td>Hsieh</td>\n",
       "      <td>683.0</td>\n",
       "      <td>Germany</td>\n",
       "      <td>Male</td>\n",
       "      <td>49.0</td>\n",
       "      <td>7.0</td>\n",
       "      <td>123837.86</td>\n",
       "      <td>2.0</td>\n",
       "      <td>1.0</td>\n",
       "      <td>1.0</td>\n",
       "      <td>138700.75</td>\n",
       "      <td>1.0</td>\n",
       "    </tr>\n",
       "    <tr>\n",
       "      <th>1</th>\n",
       "      <td>1</td>\n",
       "      <td>15682533.0</td>\n",
       "      <td>Hs?eh</td>\n",
       "      <td>608.0</td>\n",
       "      <td>France</td>\n",
       "      <td>Female</td>\n",
       "      <td>30.0</td>\n",
       "      <td>10.0</td>\n",
       "      <td>0.00</td>\n",
       "      <td>2.0</td>\n",
       "      <td>1.0</td>\n",
       "      <td>1.0</td>\n",
       "      <td>146723.72</td>\n",
       "      <td>0.0</td>\n",
       "    </tr>\n",
       "    <tr>\n",
       "      <th>2</th>\n",
       "      <td>2</td>\n",
       "      <td>15791550.0</td>\n",
       "      <td>Tsou</td>\n",
       "      <td>539.0</td>\n",
       "      <td>France</td>\n",
       "      <td>Female</td>\n",
       "      <td>32.0</td>\n",
       "      <td>8.0</td>\n",
       "      <td>0.00</td>\n",
       "      <td>1.0</td>\n",
       "      <td>1.0</td>\n",
       "      <td>1.0</td>\n",
       "      <td>94873.60</td>\n",
       "      <td>0.0</td>\n",
       "    </tr>\n",
       "    <tr>\n",
       "      <th>3</th>\n",
       "      <td>3</td>\n",
       "      <td>15762762.0</td>\n",
       "      <td>Chiawuotu</td>\n",
       "      <td>530.0</td>\n",
       "      <td>Spain</td>\n",
       "      <td>Female</td>\n",
       "      <td>39.0</td>\n",
       "      <td>8.0</td>\n",
       "      <td>0.00</td>\n",
       "      <td>2.0</td>\n",
       "      <td>0.0</td>\n",
       "      <td>0.0</td>\n",
       "      <td>177896.93</td>\n",
       "      <td>0.0</td>\n",
       "    </tr>\n",
       "    <tr>\n",
       "      <th>4</th>\n",
       "      <td>4</td>\n",
       "      <td>15756475.0</td>\n",
       "      <td>Nnamdi</td>\n",
       "      <td>613.0</td>\n",
       "      <td>France</td>\n",
       "      <td>Female</td>\n",
       "      <td>45.0</td>\n",
       "      <td>10.0</td>\n",
       "      <td>0.00</td>\n",
       "      <td>2.0</td>\n",
       "      <td>1.0</td>\n",
       "      <td>1.0</td>\n",
       "      <td>116748.14</td>\n",
       "      <td>0.0</td>\n",
       "    </tr>\n",
       "  </tbody>\n",
       "</table>\n",
       "</div>"
      ],
      "text/plain": [
       "   id  CustomerId    Surname  CreditScore Geography  Gender   Age  Tenure  \\\n",
       "0   0  15713774.0      Hsieh        683.0   Germany    Male  49.0     7.0   \n",
       "1   1  15682533.0      Hs?eh        608.0    France  Female  30.0    10.0   \n",
       "2   2  15791550.0       Tsou        539.0    France  Female  32.0     8.0   \n",
       "3   3  15762762.0  Chiawuotu        530.0     Spain  Female  39.0     8.0   \n",
       "4   4  15756475.0     Nnamdi        613.0    France  Female  45.0    10.0   \n",
       "\n",
       "     Balance  NumOfProducts  HasCrCard  IsActiveMember  EstimatedSalary  \\\n",
       "0  123837.86            2.0        1.0             1.0        138700.75   \n",
       "1       0.00            2.0        1.0             1.0        146723.72   \n",
       "2       0.00            1.0        1.0             1.0         94873.60   \n",
       "3       0.00            2.0        0.0             0.0        177896.93   \n",
       "4       0.00            2.0        1.0             1.0        116748.14   \n",
       "\n",
       "   Exited  \n",
       "0     1.0  \n",
       "1     0.0  \n",
       "2     0.0  \n",
       "3     0.0  \n",
       "4     0.0  "
      ]
     },
     "metadata": {},
     "output_type": "display_data"
    },
    {
     "name": "stdout",
     "output_type": "stream",
     "text": [
      "Testing Data:\n"
     ]
    },
    {
     "data": {
      "text/html": [
       "<div>\n",
       "<style scoped>\n",
       "    .dataframe tbody tr th:only-of-type {\n",
       "        vertical-align: middle;\n",
       "    }\n",
       "\n",
       "    .dataframe tbody tr th {\n",
       "        vertical-align: top;\n",
       "    }\n",
       "\n",
       "    .dataframe thead th {\n",
       "        text-align: right;\n",
       "    }\n",
       "</style>\n",
       "<table border=\"1\" class=\"dataframe\">\n",
       "  <thead>\n",
       "    <tr style=\"text-align: right;\">\n",
       "      <th></th>\n",
       "      <th>id</th>\n",
       "      <th>CustomerId</th>\n",
       "      <th>Surname</th>\n",
       "      <th>CreditScore</th>\n",
       "      <th>Geography</th>\n",
       "      <th>Gender</th>\n",
       "      <th>Age</th>\n",
       "      <th>Tenure</th>\n",
       "      <th>Balance</th>\n",
       "      <th>NumOfProducts</th>\n",
       "      <th>HasCrCard</th>\n",
       "      <th>IsActiveMember</th>\n",
       "      <th>EstimatedSalary</th>\n",
       "    </tr>\n",
       "  </thead>\n",
       "  <tbody>\n",
       "    <tr>\n",
       "      <th>0</th>\n",
       "      <td>15000</td>\n",
       "      <td>15797736.0</td>\n",
       "      <td>Chikwendu</td>\n",
       "      <td>591.0</td>\n",
       "      <td>Germany</td>\n",
       "      <td>Female</td>\n",
       "      <td>32.0</td>\n",
       "      <td>2.0</td>\n",
       "      <td>106881.50</td>\n",
       "      <td>2.0</td>\n",
       "      <td>1.0</td>\n",
       "      <td>0.0</td>\n",
       "      <td>122810.53</td>\n",
       "    </tr>\n",
       "    <tr>\n",
       "      <th>1</th>\n",
       "      <td>15001</td>\n",
       "      <td>15676515.0</td>\n",
       "      <td>Lai</td>\n",
       "      <td>553.0</td>\n",
       "      <td>Spain</td>\n",
       "      <td>Male</td>\n",
       "      <td>37.0</td>\n",
       "      <td>2.0</td>\n",
       "      <td>0.00</td>\n",
       "      <td>2.0</td>\n",
       "      <td>1.0</td>\n",
       "      <td>0.0</td>\n",
       "      <td>63736.17</td>\n",
       "    </tr>\n",
       "    <tr>\n",
       "      <th>2</th>\n",
       "      <td>15002</td>\n",
       "      <td>15701291.0</td>\n",
       "      <td>Folliero</td>\n",
       "      <td>646.0</td>\n",
       "      <td>France</td>\n",
       "      <td>Female</td>\n",
       "      <td>29.0</td>\n",
       "      <td>7.0</td>\n",
       "      <td>0.00</td>\n",
       "      <td>2.0</td>\n",
       "      <td>1.0</td>\n",
       "      <td>0.0</td>\n",
       "      <td>121866.87</td>\n",
       "    </tr>\n",
       "    <tr>\n",
       "      <th>3</th>\n",
       "      <td>15003</td>\n",
       "      <td>15594812.0</td>\n",
       "      <td>Trevisani</td>\n",
       "      <td>603.0</td>\n",
       "      <td>Germany</td>\n",
       "      <td>Male</td>\n",
       "      <td>49.0</td>\n",
       "      <td>8.0</td>\n",
       "      <td>131394.56</td>\n",
       "      <td>1.0</td>\n",
       "      <td>0.0</td>\n",
       "      <td>1.0</td>\n",
       "      <td>147059.28</td>\n",
       "    </tr>\n",
       "    <tr>\n",
       "      <th>4</th>\n",
       "      <td>15004</td>\n",
       "      <td>15791321.0</td>\n",
       "      <td>Ch'ien</td>\n",
       "      <td>645.0</td>\n",
       "      <td>Spain</td>\n",
       "      <td>Female</td>\n",
       "      <td>39.0</td>\n",
       "      <td>3.0</td>\n",
       "      <td>0.00</td>\n",
       "      <td>2.0</td>\n",
       "      <td>1.0</td>\n",
       "      <td>0.0</td>\n",
       "      <td>129975.94</td>\n",
       "    </tr>\n",
       "  </tbody>\n",
       "</table>\n",
       "</div>"
      ],
      "text/plain": [
       "      id  CustomerId    Surname  CreditScore Geography  Gender   Age  Tenure  \\\n",
       "0  15000  15797736.0  Chikwendu        591.0   Germany  Female  32.0     2.0   \n",
       "1  15001  15676515.0        Lai        553.0     Spain    Male  37.0     2.0   \n",
       "2  15002  15701291.0   Folliero        646.0    France  Female  29.0     7.0   \n",
       "3  15003  15594812.0  Trevisani        603.0   Germany    Male  49.0     8.0   \n",
       "4  15004  15791321.0     Ch'ien        645.0     Spain  Female  39.0     3.0   \n",
       "\n",
       "     Balance  NumOfProducts  HasCrCard  IsActiveMember  EstimatedSalary  \n",
       "0  106881.50            2.0        1.0             0.0        122810.53  \n",
       "1       0.00            2.0        1.0             0.0         63736.17  \n",
       "2       0.00            2.0        1.0             0.0        121866.87  \n",
       "3  131394.56            1.0        0.0             1.0        147059.28  \n",
       "4       0.00            2.0        1.0             0.0        129975.94  "
      ]
     },
     "metadata": {},
     "output_type": "display_data"
    }
   ],
   "source": [
    "\n",
    "train_data_path = 'data/train.csv'\n",
    "test_data_path = 'data/test.csv'\n",
    "\n",
    "train = pd.read_csv(train_data_path)\n",
    "test = pd.read_csv(test_data_path)\n",
    "\n",
    "print(\"Training Data:\")\n",
    "display(train.head())\n",
    "\n",
    "print(\"Testing Data:\")\n",
    "display(test.head())"
   ]
  },
  {
   "cell_type": "code",
   "execution_count": 128,
   "metadata": {},
   "outputs": [
    {
     "data": {
      "text/plain": [
       "id                 0\n",
       "CustomerId         0\n",
       "Surname            0\n",
       "CreditScore        0\n",
       "Geography          0\n",
       "Gender             0\n",
       "Age                0\n",
       "Tenure             0\n",
       "Balance            0\n",
       "NumOfProducts      0\n",
       "HasCrCard          0\n",
       "IsActiveMember     0\n",
       "EstimatedSalary    0\n",
       "Exited             0\n",
       "dtype: int64"
      ]
     },
     "execution_count": 128,
     "metadata": {},
     "output_type": "execute_result"
    }
   ],
   "source": [
    "train.isnull().sum()\n",
    "# pas de na"
   ]
  },
  {
   "cell_type": "code",
   "execution_count": 129,
   "metadata": {},
   "outputs": [
    {
     "data": {
      "text/plain": [
       "id                   int64\n",
       "CustomerId         float64\n",
       "Surname             object\n",
       "CreditScore        float64\n",
       "Geography           object\n",
       "Gender              object\n",
       "Age                float64\n",
       "Tenure             float64\n",
       "Balance            float64\n",
       "NumOfProducts      float64\n",
       "HasCrCard          float64\n",
       "IsActiveMember     float64\n",
       "EstimatedSalary    float64\n",
       "Exited             float64\n",
       "dtype: object"
      ]
     },
     "execution_count": 129,
     "metadata": {},
     "output_type": "execute_result"
    }
   ],
   "source": [
    "train.dtypes\n",
    "# pas de surprises"
   ]
  },
  {
   "cell_type": "markdown",
   "metadata": {},
   "source": [
    "# 1. Premier traitement <a class=\"anchor\" id=\"Introduction\"></a>\n",
    "---\n"
   ]
  },
  {
   "cell_type": "markdown",
   "metadata": {},
   "source": [
    "\n",
    "1. enlever variables d'informations inutiles OK\n",
    "\n",
    "2. gérer muticolinéarité OK \n",
    "\n",
    "3. encoder variable Gender Age (one hot encoding ou autre) OK\n",
    "\n",
    "4. Outlier\n",
    "\n",
    "5. créer des variables pertinentes (min max,..)\n",
    "\n",
    "6. Si plusieurs observtion correspondent à la même personne et qu'il prends un gros poids, tout sera biaisé..il faut vérifier l'indépendances des observations\n",
    "\n",
    "7. garder que colonnes que l'on comprends : RFE, BORUTA,..\n",
    "\n",
    "8. CHoix métrique"
   ]
  },
  {
   "cell_type": "markdown",
   "metadata": {},
   "source": [
    "## enlever variables d'information inutile"
   ]
  },
  {
   "cell_type": "code",
   "execution_count": 130,
   "metadata": {},
   "outputs": [],
   "source": [
    "train_traitement = train.drop(columns=['Surname', 'id', 'CustomerId'])\n",
    "# variables non pertinentes"
   ]
  },
  {
   "cell_type": "code",
   "execution_count": 131,
   "metadata": {},
   "outputs": [
    {
     "data": {
      "text/plain": [
       "CreditScore        15000\n",
       "Geography          15000\n",
       "Gender             15000\n",
       "Age                15000\n",
       "Tenure             15000\n",
       "Balance            15000\n",
       "NumOfProducts      15000\n",
       "HasCrCard          15000\n",
       "IsActiveMember     15000\n",
       "EstimatedSalary    15000\n",
       "Exited             15000\n",
       "dtype: int64"
      ]
     },
     "execution_count": 131,
     "metadata": {},
     "output_type": "execute_result"
    }
   ],
   "source": [
    "train_traitement = train_traitement.drop_duplicates()\n",
    "train_traitement.count()\n",
    "# pas de doublons parfait "
   ]
  },
  {
   "cell_type": "markdown",
   "metadata": {},
   "source": [
    "## multicolinéarité"
   ]
  },
  {
   "cell_type": "code",
   "execution_count": 132,
   "metadata": {},
   "outputs": [
    {
     "data": {
      "image/png": "[encoded data removed]",
      "text/plain": [
       "<Figure size 550x450 with 2 Axes>"
      ]
     },
     "metadata": {},
     "output_type": "display_data"
    }
   ],
   "source": [
    "import numpy as np\n",
    "from sklearn.cluster import AgglomerativeClustering\n",
    "import seaborn as sns\n",
    "import matplotlib.pyplot as plt\n",
    "\n",
    "categorical_columns = ['Gender', 'Geography']\n",
    "# Select only numeric columns\n",
    "correlation_matrix = train_traitement.drop(columns=categorical_columns).corr()\n",
    "\n",
    "# Compute the distance matrix\n",
    "distance_matrix = 2 * (1 - np.abs(correlation_matrix))\n",
    "\n",
    "# Perform hierarchical clustering\n",
    "clustering = AgglomerativeClustering(n_clusters=3, linkage='single', metric=\"precomputed\").fit(distance_matrix)\n",
    "\n",
    "# Extract clusters\n",
    "clusters = [list(correlation_matrix.columns[clustering.labels_ == lab]) for lab in set(clustering.labels_)]\n",
    "\n",
    "# Reorder the correlation matrix\n",
    "reordered = np.concatenate(clusters)\n",
    "R = correlation_matrix.loc[reordered, reordered]\n",
    "\n",
    "# Plot the heatmap\n",
    "f, ax = plt.subplots(figsize=(5.5, 4.5))\n",
    "_ = sns.heatmap(R, cmap='coolwarm', vmax=1, center=0, square=True, linewidths=.5, cbar_kws={\"shrink\": .5})\n",
    "plt.show()"
   ]
  },
  {
   "cell_type": "code",
   "execution_count": 133,
   "metadata": {},
   "outputs": [],
   "source": [
    "# enlève colonne balance car elle est très corrélé avec Nombre de produit mais nombre de produit est plus corrélé avec la target que Balance\n",
    "train_traitement = train_traitement.drop(columns=['Balance'])\n",
    "# remarque, c'est ce que fait Lasso"
   ]
  },
  {
   "cell_type": "markdown",
   "metadata": {},
   "source": [
    "## outlier"
   ]
  },
  {
   "cell_type": "code",
   "execution_count": 134,
   "metadata": {},
   "outputs": [
    {
     "name": "stdout",
     "output_type": "stream",
     "text": [
      "Optimization terminated successfully.\n",
      "         Current function value: 0.341519\n",
      "         Iterations 7\n",
      "Indices des outliers détectés : [    0    18    44 ... 14964 14971 14986]\n"
     ]
    },
    {
     "data": {
      "image/png": "[encoded data removed]",
      "text/plain": [
       "<Figure size 1000x600 with 1 Axes>"
      ]
     },
     "metadata": {},
     "output_type": "display_data"
    }
   ],
   "source": [
    "import numpy as np\n",
    "import pandas as pd\n",
    "\n",
    "import statsmodels.api as sm\n",
    "import matplotlib.pyplot as plt\n",
    "\n",
    "class OutlierCooksDistance:\n",
    "    def __init__(self, donnees: pd.DataFrame, variable_cible: str) -> None:\n",
    "        self.donnees = donnees\n",
    "        self.variable_cible = variable_cible\n",
    "        self.colonnes_numeriques = donnees.select_dtypes(include=['float64', 'int64']).columns\n",
    "        self.colonnes_categorielles = donnees.select_dtypes(include=['object']).columns\n",
    "        self.variables_features = self.colonnes_numeriques.drop(variable_cible)\n",
    "        self.X_features_numeriques = self.donnees[self.variables_features]\n",
    "        self.y_cible = self.donnees[self.variable_cible]\n",
    "        self.X_features_avec_constante = sm.add_constant(self.X_features_numeriques)\n",
    "\n",
    "    def ajuster_modele_logistique(self):\n",
    "        self.modele_logistique = sm.Logit(self.y_cible, self.X_features_avec_constante)\n",
    "        self.modele_logistique_ajuste = self.modele_logistique.fit()\n",
    "\n",
    "    def calculer_distances_cook(self):\n",
    "        influence = self.modele_logistique_ajuste.get_influence()\n",
    "        self.distances_cook = influence.cooks_distance[0]\n",
    "\n",
    "    def identifier_outliers(self):\n",
    "        nombre_observations = len(self.donnees)\n",
    "        nombre_parametres = self.X_features_avec_constante.shape[1]\n",
    "        seuil_distance_cook = 4 / (nombre_observations - nombre_parametres)\n",
    "        self.outliers = np.where(self.distances_cook > seuil_distance_cook)[0]\n",
    "\n",
    "    def supprimer_outliers(self) -> pd.DataFrame:\n",
    "        if len(self.outliers) > 0:\n",
    "            print(f\"Indices des outliers détectés : {self.outliers}\")\n",
    "            self.donnees_sans_outliers = self.donnees.drop(index=self.outliers)\n",
    "        else:\n",
    "            print(\"Aucun outlier détecté. Pas de suppression d'observations.\")\n",
    "            self.donnees_sans_outliers = self.donnees\n",
    "        return self.donnees_sans_outliers\n",
    "\n",
    "    def tracer_distance_cook(self):\n",
    "        plt.figure(figsize=(10, 6))\n",
    "        plt.stem(np.arange(len(self.distances_cook)), self.distances_cook, markerfmt=\",\")\n",
    "        plt.title(\"Distance de Cook pour chaque observation\")\n",
    "        plt.xlabel(\"Index de l'observation\")\n",
    "        plt.ylabel(\"Distance de Cook\")\n",
    "        plt.show()\n",
    "\n",
    "# Exemple d'utilisation\n",
    "data = train_traitement\n",
    "variable_cible = 'Exited'\n",
    "traitement = OutlierCooksDistance(data, variable_cible)\n",
    "traitement.ajuster_modele_logistique()\n",
    "traitement.calculer_distances_cook()\n",
    "traitement.identifier_outliers()\n",
    "data_train_sans_outlier = traitement.supprimer_outliers()\n",
    "traitement.tracer_distance_cook()"
   ]
  },
  {
   "cell_type": "code",
   "execution_count": 146,
   "metadata": {},
   "outputs": [
    {
     "name": "stdout",
     "output_type": "stream",
     "text": [
      "nombre d'observations supprimées : \n"
     ]
    },
    {
     "data": {
      "text/plain": [
       "1218"
      ]
     },
     "execution_count": 146,
     "metadata": {},
     "output_type": "execute_result"
    }
   ],
   "source": [
    "print(\"nombre d'observations supprimées : \",)\n",
    "len (train_traitement)  - len(data_train_sans_outlier)\n"
   ]
  },
  {
   "cell_type": "code",
   "execution_count": 148,
   "metadata": {},
   "outputs": [],
   "source": [
    "data_traitement = data_train_sans_outlier"
   ]
  },
  {
   "cell_type": "markdown",
   "metadata": {},
   "source": [
    "## traitement catégorielles"
   ]
  },
  {
   "cell_type": "code",
   "execution_count": 149,
   "metadata": {},
   "outputs": [],
   "source": [
    "train_traitement = pd.get_dummies(train_traitement, columns=['Gender', 'Geography'], drop_first=True)*1\n"
   ]
  },
  {
   "cell_type": "markdown",
   "metadata": {},
   "source": [
    "# 2. Premier modèle <a class=\"anchor\" id=\"Introduction\"></a>\n",
    "---\n"
   ]
  },
  {
   "cell_type": "code",
   "execution_count": 151,
   "metadata": {},
   "outputs": [
    {
     "name": "stdout",
     "output_type": "stream",
     "text": [
      "Optimization terminated successfully.\n",
      "         Current function value: 0.319142\n",
      "         Iterations 7\n",
      "                           Logit Regression Results                           \n",
      "==============================================================================\n",
      "Dep. Variable:                 Exited   No. Observations:                15000\n",
      "Model:                          Logit   Df Residuals:                    14989\n",
      "Method:                           MLE   Df Model:                           10\n",
      "Date:                Fri, 08 Nov 2024   Pseudo R-squ.:                  0.3610\n",
      "Time:                        22:11:20   Log-Likelihood:                -4787.1\n",
      "converged:                       True   LL-Null:                       -7492.2\n",
      "Covariance Type:            nonrobust   LLR p-value:                     0.000\n",
      "=====================================================================================\n",
      "                        coef    std err          z      P>|z|      [0.025      0.975]\n",
      "-------------------------------------------------------------------------------------\n",
      "const                -3.7432      0.299    -12.531      0.000      -4.329      -3.158\n",
      "CreditScore          -0.0014      0.000     -3.915      0.000      -0.002      -0.001\n",
      "Age                   0.1509      0.004     42.677      0.000       0.144       0.158\n",
      "Tenure               -0.0425      0.009     -4.602      0.000      -0.061      -0.024\n",
      "NumOfProducts        -1.3047      0.050    -25.986      0.000      -1.403      -1.206\n",
      "HasCrCard            -0.0940      0.063     -1.504      0.133      -0.217       0.029\n",
      "IsActiveMember       -1.3775      0.056    -24.496      0.000      -1.488      -1.267\n",
      "EstimatedSalary    1.474e-06   5.74e-07      2.569      0.010    3.49e-07     2.6e-06\n",
      "Gender_Male          -0.9118      0.053    -17.269      0.000      -1.015      -0.808\n",
      "Geography_Germany     1.1528      0.063     18.413      0.000       1.030       1.276\n",
      "Geography_Spain       0.0053      0.069      0.078      0.938      -0.129       0.140\n",
      "=====================================================================================\n"
     ]
    }
   ],
   "source": [
    "import statsmodels.api as sm\n",
    "\n",
    "X = train_traitement.drop(columns=['Exited'])\n",
    "y = train_traitement['Exited']\n",
    "\n",
    "# Add a constant to the model\n",
    "X = sm.add_constant(X)\n",
    "\n",
    "# Fit the logistic regression model\n",
    "logit_model = sm.Logit(y, X).fit()\n",
    "\n",
    "# Print the summary of the model\n",
    "print(logit_model.summary())\n",
    "\n"
   ]
  },
  {
   "cell_type": "code",
   "execution_count": 154,
   "metadata": {},
   "outputs": [],
   "source": [
    "\n",
    "test_traitement = test.drop(columns=['Surname', 'id', 'CustomerId',\"Balance\"])\n",
    "test_traitement = pd.get_dummies(test_traitement, columns=['Gender', 'Geography'], drop_first=True)*1\n",
    "test_traitement = sm.add_constant(test_traitement)\n"
   ]
  },
  {
   "cell_type": "code",
   "execution_count": 155,
   "metadata": {},
   "outputs": [
    {
     "name": "stdout",
     "output_type": "stream",
     "text": [
      "0       0.232320\n",
      "1       0.073524\n",
      "2       0.043444\n",
      "3       0.560649\n",
      "4       0.198805\n",
      "          ...   \n",
      "9995    0.114571\n",
      "9996    0.887390\n",
      "9997    0.033561\n",
      "9998    0.117674\n",
      "9999    0.426286\n",
      "Length: 10000, dtype: float64\n"
     ]
    }
   ],
   "source": [
    "\n",
    "test_predictions = logit_model.predict(test_traitement)\n",
    "print(test_predictions)\n"
   ]
  },
  {
   "cell_type": "code",
   "execution_count": 158,
   "metadata": {},
   "outputs": [
    {
     "name": "stdout",
     "output_type": "stream",
     "text": [
      "      id  Predictions\n",
      "0  15000     0.232320\n",
      "1  15001     0.073524\n",
      "2  15002     0.043444\n",
      "3  15003     0.560649\n",
      "4  15004     0.198805\n"
     ]
    }
   ],
   "source": [
    "# Create a new dataframe with 'id' and 'test_predictions'\n",
    "test_predictions_df = pd.DataFrame({'id': test['id'], 'Predictions': test_predictions})\n",
    "\n",
    "# Display the new dataframe\n",
    "print(test_predictions_df.head())"
   ]
  },
  {
   "cell_type": "code",
   "execution_count": 159,
   "metadata": {},
   "outputs": [],
   "source": [
    "# Save the test_predictions_df to a CSV file\n",
    "test_predictions_df.to_csv('test_predictions.csv', index=False)"
   ]
  },
  {
   "cell_type": "markdown",
   "metadata": {},
   "source": [
    "pycarest pour tester tous les modèles. \n",
    "LIGHT GBM\n"
   ]
  }
 ],
 "metadata": {
  "kernelspec": {
   "display_name": ".venv",
   "language": "python",
   "name": "python3"
  },
  "language_info": {
   "codemirror_mode": {
    "name": "ipython",
    "version": 3
   },
   "file_extension": ".py",
   "mimetype": "text/x-python",
   "name": "python",
   "nbconvert_exporter": "python",
   "pygments_lexer": "ipython3",
   "version": "3.10.11"
  }
 },
 "nbformat": 4,
 "nbformat_minor": 2
}
