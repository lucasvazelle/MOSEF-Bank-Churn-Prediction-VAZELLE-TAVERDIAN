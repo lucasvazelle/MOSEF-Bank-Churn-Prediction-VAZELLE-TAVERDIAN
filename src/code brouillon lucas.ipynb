{
 "cells": [
  {
   "cell_type": "markdown",
   "metadata": {},
   "source": [
    "\n",
    "<p align=\"center\">\n",
    "    <img src=\"mosef.png\" alt=\"MOSEF Logo\" width=\"300\">\n",
    "</p>\n",
    "```\n",
    "</p>\n",
    "\n",
    "<a href=\"https://linkedin.com/in/lucasvazelle\">Vazelle Lucas  </a> $\\cdot$ \n",
    "<a href=\"https://www.linkedin.com/in/mariam-tarverdian\">Taverdian Mariam </a> $\\cdot$ 2024-2025, MOSEF $\\cdot$ \n",
    "\n",
    "\n",
    "---\n",
    "\n",
    "\n",
    "- [Projet Kaggel ](https://www.kaggle.com/competitions/mosef-bank-churn-prediction/)\n"
   ]
  },
  {
   "cell_type": "code",
   "execution_count": 1,
   "metadata": {},
   "outputs": [],
   "source": [
    "import pandas as pd\n"
   ]
  },
  {
   "cell_type": "markdown",
   "metadata": {},
   "source": [
    "# 1. Import data <a class=\"anchor\" id=\"Introduction\"></a>\n",
    "---\n"
   ]
  },
  {
   "cell_type": "code",
   "execution_count": 2,
   "metadata": {},
   "outputs": [
    {
     "name": "stdout",
     "output_type": "stream",
     "text": [
      "Training Data:\n"
     ]
    },
    {
     "data": {
      "text/html": [
       "<div>\n",
       "<style scoped>\n",
       "    .dataframe tbody tr th:only-of-type {\n",
       "        vertical-align: middle;\n",
       "    }\n",
       "\n",
       "    .dataframe tbody tr th {\n",
       "        vertical-align: top;\n",
       "    }\n",
       "\n",
       "    .dataframe thead th {\n",
       "        text-align: right;\n",
       "    }\n",
       "</style>\n",
       "<table border=\"1\" class=\"dataframe\">\n",
       "  <thead>\n",
       "    <tr style=\"text-align: right;\">\n",
       "      <th></th>\n",
       "      <th>id</th>\n",
       "      <th>CustomerId</th>\n",
       "      <th>Surname</th>\n",
       "      <th>CreditScore</th>\n",
       "      <th>Geography</th>\n",
       "      <th>Gender</th>\n",
       "      <th>Age</th>\n",
       "      <th>Tenure</th>\n",
       "      <th>Balance</th>\n",
       "      <th>NumOfProducts</th>\n",
       "      <th>HasCrCard</th>\n",
       "      <th>IsActiveMember</th>\n",
       "      <th>EstimatedSalary</th>\n",
       "      <th>Exited</th>\n",
       "    </tr>\n",
       "  </thead>\n",
       "  <tbody>\n",
       "    <tr>\n",
       "      <th>0</th>\n",
       "      <td>0</td>\n",
       "      <td>15713774.0</td>\n",
       "      <td>Hsieh</td>\n",
       "      <td>683.0</td>\n",
       "      <td>Germany</td>\n",
       "      <td>Male</td>\n",
       "      <td>49.0</td>\n",
       "      <td>7.0</td>\n",
       "      <td>123837.86</td>\n",
       "      <td>2.0</td>\n",
       "      <td>1.0</td>\n",
       "      <td>1.0</td>\n",
       "      <td>138700.75</td>\n",
       "      <td>1.0</td>\n",
       "    </tr>\n",
       "    <tr>\n",
       "      <th>1</th>\n",
       "      <td>1</td>\n",
       "      <td>15682533.0</td>\n",
       "      <td>Hs?eh</td>\n",
       "      <td>608.0</td>\n",
       "      <td>France</td>\n",
       "      <td>Female</td>\n",
       "      <td>30.0</td>\n",
       "      <td>10.0</td>\n",
       "      <td>0.00</td>\n",
       "      <td>2.0</td>\n",
       "      <td>1.0</td>\n",
       "      <td>1.0</td>\n",
       "      <td>146723.72</td>\n",
       "      <td>0.0</td>\n",
       "    </tr>\n",
       "    <tr>\n",
       "      <th>2</th>\n",
       "      <td>2</td>\n",
       "      <td>15791550.0</td>\n",
       "      <td>Tsou</td>\n",
       "      <td>539.0</td>\n",
       "      <td>France</td>\n",
       "      <td>Female</td>\n",
       "      <td>32.0</td>\n",
       "      <td>8.0</td>\n",
       "      <td>0.00</td>\n",
       "      <td>1.0</td>\n",
       "      <td>1.0</td>\n",
       "      <td>1.0</td>\n",
       "      <td>94873.60</td>\n",
       "      <td>0.0</td>\n",
       "    </tr>\n",
       "    <tr>\n",
       "      <th>3</th>\n",
       "      <td>3</td>\n",
       "      <td>15762762.0</td>\n",
       "      <td>Chiawuotu</td>\n",
       "      <td>530.0</td>\n",
       "      <td>Spain</td>\n",
       "      <td>Female</td>\n",
       "      <td>39.0</td>\n",
       "      <td>8.0</td>\n",
       "      <td>0.00</td>\n",
       "      <td>2.0</td>\n",
       "      <td>0.0</td>\n",
       "      <td>0.0</td>\n",
       "      <td>177896.93</td>\n",
       "      <td>0.0</td>\n",
       "    </tr>\n",
       "    <tr>\n",
       "      <th>4</th>\n",
       "      <td>4</td>\n",
       "      <td>15756475.0</td>\n",
       "      <td>Nnamdi</td>\n",
       "      <td>613.0</td>\n",
       "      <td>France</td>\n",
       "      <td>Female</td>\n",
       "      <td>45.0</td>\n",
       "      <td>10.0</td>\n",
       "      <td>0.00</td>\n",
       "      <td>2.0</td>\n",
       "      <td>1.0</td>\n",
       "      <td>1.0</td>\n",
       "      <td>116748.14</td>\n",
       "      <td>0.0</td>\n",
       "    </tr>\n",
       "  </tbody>\n",
       "</table>\n",
       "</div>"
      ],
      "text/plain": [
       "   id  CustomerId    Surname  CreditScore Geography  Gender   Age  Tenure  \\\n",
       "0   0  15713774.0      Hsieh        683.0   Germany    Male  49.0     7.0   \n",
       "1   1  15682533.0      Hs?eh        608.0    France  Female  30.0    10.0   \n",
       "2   2  15791550.0       Tsou        539.0    France  Female  32.0     8.0   \n",
       "3   3  15762762.0  Chiawuotu        530.0     Spain  Female  39.0     8.0   \n",
       "4   4  15756475.0     Nnamdi        613.0    France  Female  45.0    10.0   \n",
       "\n",
       "     Balance  NumOfProducts  HasCrCard  IsActiveMember  EstimatedSalary  \\\n",
       "0  123837.86            2.0        1.0             1.0        138700.75   \n",
       "1       0.00            2.0        1.0             1.0        146723.72   \n",
       "2       0.00            1.0        1.0             1.0         94873.60   \n",
       "3       0.00            2.0        0.0             0.0        177896.93   \n",
       "4       0.00            2.0        1.0             1.0        116748.14   \n",
       "\n",
       "   Exited  \n",
       "0     1.0  \n",
       "1     0.0  \n",
       "2     0.0  \n",
       "3     0.0  \n",
       "4     0.0  "
      ]
     },
     "metadata": {},
     "output_type": "display_data"
    },
    {
     "name": "stdout",
     "output_type": "stream",
     "text": [
      "Testing Data:\n"
     ]
    },
    {
     "data": {
      "text/html": [
       "<div>\n",
       "<style scoped>\n",
       "    .dataframe tbody tr th:only-of-type {\n",
       "        vertical-align: middle;\n",
       "    }\n",
       "\n",
       "    .dataframe tbody tr th {\n",
       "        vertical-align: top;\n",
       "    }\n",
       "\n",
       "    .dataframe thead th {\n",
       "        text-align: right;\n",
       "    }\n",
       "</style>\n",
       "<table border=\"1\" class=\"dataframe\">\n",
       "  <thead>\n",
       "    <tr style=\"text-align: right;\">\n",
       "      <th></th>\n",
       "      <th>id</th>\n",
       "      <th>CustomerId</th>\n",
       "      <th>Surname</th>\n",
       "      <th>CreditScore</th>\n",
       "      <th>Geography</th>\n",
       "      <th>Gender</th>\n",
       "      <th>Age</th>\n",
       "      <th>Tenure</th>\n",
       "      <th>Balance</th>\n",
       "      <th>NumOfProducts</th>\n",
       "      <th>HasCrCard</th>\n",
       "      <th>IsActiveMember</th>\n",
       "      <th>EstimatedSalary</th>\n",
       "    </tr>\n",
       "  </thead>\n",
       "  <tbody>\n",
       "    <tr>\n",
       "      <th>0</th>\n",
       "      <td>15000</td>\n",
       "      <td>15797736.0</td>\n",
       "      <td>Chikwendu</td>\n",
       "      <td>591.0</td>\n",
       "      <td>Germany</td>\n",
       "      <td>Female</td>\n",
       "      <td>32.0</td>\n",
       "      <td>2.0</td>\n",
       "      <td>106881.50</td>\n",
       "      <td>2.0</td>\n",
       "      <td>1.0</td>\n",
       "      <td>0.0</td>\n",
       "      <td>122810.53</td>\n",
       "    </tr>\n",
       "    <tr>\n",
       "      <th>1</th>\n",
       "      <td>15001</td>\n",
       "      <td>15676515.0</td>\n",
       "      <td>Lai</td>\n",
       "      <td>553.0</td>\n",
       "      <td>Spain</td>\n",
       "      <td>Male</td>\n",
       "      <td>37.0</td>\n",
       "      <td>2.0</td>\n",
       "      <td>0.00</td>\n",
       "      <td>2.0</td>\n",
       "      <td>1.0</td>\n",
       "      <td>0.0</td>\n",
       "      <td>63736.17</td>\n",
       "    </tr>\n",
       "    <tr>\n",
       "      <th>2</th>\n",
       "      <td>15002</td>\n",
       "      <td>15701291.0</td>\n",
       "      <td>Folliero</td>\n",
       "      <td>646.0</td>\n",
       "      <td>France</td>\n",
       "      <td>Female</td>\n",
       "      <td>29.0</td>\n",
       "      <td>7.0</td>\n",
       "      <td>0.00</td>\n",
       "      <td>2.0</td>\n",
       "      <td>1.0</td>\n",
       "      <td>0.0</td>\n",
       "      <td>121866.87</td>\n",
       "    </tr>\n",
       "    <tr>\n",
       "      <th>3</th>\n",
       "      <td>15003</td>\n",
       "      <td>15594812.0</td>\n",
       "      <td>Trevisani</td>\n",
       "      <td>603.0</td>\n",
       "      <td>Germany</td>\n",
       "      <td>Male</td>\n",
       "      <td>49.0</td>\n",
       "      <td>8.0</td>\n",
       "      <td>131394.56</td>\n",
       "      <td>1.0</td>\n",
       "      <td>0.0</td>\n",
       "      <td>1.0</td>\n",
       "      <td>147059.28</td>\n",
       "    </tr>\n",
       "    <tr>\n",
       "      <th>4</th>\n",
       "      <td>15004</td>\n",
       "      <td>15791321.0</td>\n",
       "      <td>Ch'ien</td>\n",
       "      <td>645.0</td>\n",
       "      <td>Spain</td>\n",
       "      <td>Female</td>\n",
       "      <td>39.0</td>\n",
       "      <td>3.0</td>\n",
       "      <td>0.00</td>\n",
       "      <td>2.0</td>\n",
       "      <td>1.0</td>\n",
       "      <td>0.0</td>\n",
       "      <td>129975.94</td>\n",
       "    </tr>\n",
       "  </tbody>\n",
       "</table>\n",
       "</div>"
      ],
      "text/plain": [
       "      id  CustomerId    Surname  CreditScore Geography  Gender   Age  Tenure  \\\n",
       "0  15000  15797736.0  Chikwendu        591.0   Germany  Female  32.0     2.0   \n",
       "1  15001  15676515.0        Lai        553.0     Spain    Male  37.0     2.0   \n",
       "2  15002  15701291.0   Folliero        646.0    France  Female  29.0     7.0   \n",
       "3  15003  15594812.0  Trevisani        603.0   Germany    Male  49.0     8.0   \n",
       "4  15004  15791321.0     Ch'ien        645.0     Spain  Female  39.0     3.0   \n",
       "\n",
       "     Balance  NumOfProducts  HasCrCard  IsActiveMember  EstimatedSalary  \n",
       "0  106881.50            2.0        1.0             0.0        122810.53  \n",
       "1       0.00            2.0        1.0             0.0         63736.17  \n",
       "2       0.00            2.0        1.0             0.0        121866.87  \n",
       "3  131394.56            1.0        0.0             1.0        147059.28  \n",
       "4       0.00            2.0        1.0             0.0        129975.94  "
      ]
     },
     "metadata": {},
     "output_type": "display_data"
    }
   ],
   "source": [
    "\n",
    "train_data_path = 'data/train.csv'\n",
    "test_data_path = 'data/test.csv'\n",
    "\n",
    "train = pd.read_csv(train_data_path)\n",
    "test = pd.read_csv(test_data_path)\n",
    "\n",
    "print(\"Training Data:\")\n",
    "display(train.head())\n",
    "\n",
    "print(\"Testing Data:\")\n",
    "display(test.head())"
   ]
  },
  {
   "cell_type": "markdown",
   "metadata": {},
   "source": [
    "# 1. Premier traitement <a class=\"anchor\" id=\"Introduction\"></a>\n",
    "---\n"
   ]
  },
  {
   "cell_type": "markdown",
   "metadata": {},
   "source": [
    "1. drop colonne Surname, id, CustomerId\n",
    "\n",
    "faire attention aux doubons car observations doivent être indépendantes !!\n",
    "\n",
    "2. encoder variable Gender Age (one hot encoding ou autre)\n",
    "\n"
   ]
  },
  {
   "cell_type": "code",
   "execution_count": 3,
   "metadata": {},
   "outputs": [
    {
     "data": {
      "text/plain": [
       "id                 6278\n",
       "CustomerId         6278\n",
       "Surname            6278\n",
       "CreditScore        6278\n",
       "Geography          6278\n",
       "Gender             6278\n",
       "Age                6278\n",
       "Tenure             6278\n",
       "Balance            6278\n",
       "NumOfProducts      6278\n",
       "HasCrCard          6278\n",
       "IsActiveMember     6278\n",
       "EstimatedSalary    6278\n",
       "Exited             6278\n",
       "dtype: int64"
      ]
     },
     "execution_count": 3,
     "metadata": {},
     "output_type": "execute_result"
    }
   ],
   "source": [
    "train_traitement = train.drop_duplicates(\"CustomerId\")\n",
    "train_traitement.count()"
   ]
  },
  {
   "cell_type": "markdown",
   "metadata": {},
   "source": [
    "bizzarerie !!!  car la moitié "
   ]
  },
  {
   "cell_type": "code",
   "execution_count": 4,
   "metadata": {},
   "outputs": [],
   "source": [
    "train_traitement = train_traitement.drop(columns=['Surname', 'id', 'CustomerId'])"
   ]
  },
  {
   "cell_type": "code",
   "execution_count": 5,
   "metadata": {},
   "outputs": [],
   "source": [
    "train_traitement = pd.get_dummies(train_traitement, columns=['Gender', 'Geography'], drop_first=True)*1\n"
   ]
  },
  {
   "cell_type": "code",
   "execution_count": 25,
   "metadata": {},
   "outputs": [
    {
     "name": "stdout",
     "output_type": "stream",
     "text": [
      "Optimization terminated successfully.\n",
      "         Current function value: 0.313840\n",
      "         Iterations 7\n",
      "                           Logit Regression Results                           \n",
      "==============================================================================\n",
      "Dep. Variable:                 Exited   No. Observations:                 6278\n",
      "Model:                          Logit   Df Residuals:                     6266\n",
      "Method:                           MLE   Df Model:                           11\n",
      "Date:                Mon, 04 Nov 2024   Pseudo R-squ.:                  0.3713\n",
      "Time:                        12:41:50   Log-Likelihood:                -1970.3\n",
      "converged:                       True   LL-Null:                       -3133.7\n",
      "Covariance Type:            nonrobust   LLR p-value:                     0.000\n",
      "=====================================================================================\n",
      "                        coef    std err          z      P>|z|      [0.025      0.975]\n",
      "-------------------------------------------------------------------------------------\n",
      "const                -2.7185      0.475     -5.719      0.000      -3.650      -1.787\n",
      "CreditScore          -0.0016      0.001     -2.926      0.003      -0.003      -0.001\n",
      "Age                   0.1439      0.005     26.410      0.000       0.133       0.155\n",
      "Tenure               -0.0544      0.015     -3.749      0.000      -0.083      -0.026\n",
      "Balance           -5.479e-06   9.27e-07     -5.913      0.000    -7.3e-06   -3.66e-06\n",
      "NumOfProducts        -1.5861      0.085    -18.630      0.000      -1.753      -1.419\n",
      "HasCrCard            -0.1826      0.097     -1.877      0.061      -0.373       0.008\n",
      "IsActiveMember       -1.3110      0.087    -15.039      0.000      -1.482      -1.140\n",
      "EstimatedSalary    2.124e-06   9.13e-07      2.326      0.020    3.34e-07    3.91e-06\n",
      "Gender_Male          -0.9123      0.083    -11.036      0.000      -1.074      -0.750\n",
      "Geography_Germany     1.6698      0.127     13.151      0.000       1.421       1.919\n",
      "Geography_Spain       0.0776      0.107      0.727      0.467      -0.132       0.287\n",
      "=====================================================================================\n"
     ]
    }
   ],
   "source": [
    "import statsmodels.api as sm\n",
    "\n",
    "X = train_traitement.drop(columns=['Exited'])\n",
    "y = train_traitement['Exited']\n",
    "\n",
    "# Add a constant to the model\n",
    "X = sm.add_constant(X)\n",
    "\n",
    "# Fit the logistic regression model\n",
    "logit_model = sm.Logit(y, X).fit()\n",
    "\n",
    "# Print the summary of the model\n",
    "print(logit_model.summary())\n",
    "\n"
   ]
  },
  {
   "cell_type": "code",
   "execution_count": 7,
   "metadata": {},
   "outputs": [],
   "source": [
    "\n",
    "test_traitement = test.drop(columns=['Surname', 'id', 'CustomerId'])\n",
    "test_traitement = pd.get_dummies(test_traitement, columns=['Gender', 'Geography'], drop_first=True)*1\n",
    "test_traitement = sm.add_constant(test_traitement)\n"
   ]
  },
  {
   "cell_type": "code",
   "execution_count": 8,
   "metadata": {},
   "outputs": [
    {
     "name": "stdout",
     "output_type": "stream",
     "text": [
      "0       0.231275\n",
      "1       0.078442\n",
      "2       0.043892\n",
      "3       0.589436\n",
      "4       0.209466\n",
      "          ...   \n",
      "9995    0.127242\n",
      "9996    0.781190\n",
      "9997    0.034970\n",
      "9998    0.125940\n",
      "9999    0.351337\n",
      "Length: 10000, dtype: float64\n"
     ]
    }
   ],
   "source": [
    "\n",
    "test_predictions = logit_model.predict(test_traitement)\n",
    "print(test_predictions)\n"
   ]
  },
  {
   "cell_type": "code",
   "execution_count": 9,
   "metadata": {},
   "outputs": [
    {
     "name": "stdout",
     "output_type": "stream",
     "text": [
      "      id  Predictions\n",
      "0  15000     0.231275\n",
      "1  15001     0.078442\n",
      "2  15002     0.043892\n",
      "3  15003     0.589436\n",
      "4  15004     0.209466\n"
     ]
    }
   ],
   "source": [
    "# Create a new dataframe with 'id' and 'test_predictions'\n",
    "test_predictions_df = pd.DataFrame({'id': test['id'], 'Predictions': test_predictions})\n",
    "\n",
    "# Display the new dataframe\n",
    "print(test_predictions_df.head())"
   ]
  },
  {
   "cell_type": "code",
   "execution_count": 10,
   "metadata": {},
   "outputs": [],
   "source": [
    "# Save the test_predictions_df to a CSV file\n",
    "test_predictions_df.to_csv('test_predictions.csv', index=False)"
   ]
  },
  {
   "cell_type": "markdown",
   "metadata": {},
   "source": [
    "pycarest pour tester tous les modèles. \n",
    "LIGHT GBM\n"
   ]
  },
  {
   "cell_type": "code",
   "execution_count": null,
   "metadata": {},
   "outputs": [],
   "source": [
    "hyperpara "
   ]
  }
 ],
 "metadata": {
  "kernelspec": {
   "display_name": ".venv",
   "language": "python",
   "name": "python3"
  },
  "language_info": {
   "codemirror_mode": {
    "name": "ipython",
    "version": 3
   },
   "file_extension": ".py",
   "mimetype": "text/x-python",
   "name": "python",
   "nbconvert_exporter": "python",
   "pygments_lexer": "ipython3",
   "version": "3.10.11"
  }
 },
 "nbformat": 4,
 "nbformat_minor": 2
}
