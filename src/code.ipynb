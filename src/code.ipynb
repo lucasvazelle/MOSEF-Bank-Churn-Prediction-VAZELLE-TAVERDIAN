{
 "cells": [
  {
   "cell_type": "markdown",
   "metadata": {},
   "source": [
    "\n",
    "<p align=\"center\">\n",
    "    <img src=\"mosef.png\" alt=\"MOSEF Logo\" width=\"300\">\n",
    "</p>\n",
    "```\n",
    "</p>\n",
    "\n",
    "<a href=\"https://linkedin.com/in/lucasvazelle\">Vazelle Lucas  </a> $\\cdot$ \n",
    "<a href=\"https://www.linkedin.com/in/mariam-tarverdian\">Taverdian Mariam </a> $\\cdot$ 2024-2025, MOSEF $\\cdot$ \n",
    "\n",
    "\n",
    "---\n",
    "\n",
    "\n",
    "- [Projet Kaggel ](https://www.kaggle.com/competitions/mosef-bank-churn-prediction/)\n"
   ]
  },
  {
   "cell_type": "markdown",
   "metadata": {},
   "source": [
    "# 1. Import data <a class=\"anchor\" id=\"Introduction\"></a>\n",
    "---\n"
   ]
  },
  {
   "cell_type": "code",
   "execution_count": null,
   "metadata": {
    "vscode": {
     "languageId": "plaintext"
    }
   },
   "outputs": [],
   "source": []
  }
 ],
 "metadata": {
  "language_info": {
   "name": "python"
  }
 },
 "nbformat": 4,
 "nbformat_minor": 2
}
